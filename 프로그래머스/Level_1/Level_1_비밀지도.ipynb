{
 "cells": [
  {
   "cell_type": "markdown",
   "metadata": {},
   "source": [
    "네오는 평소 프로도가 비상금을 숨겨놓는 장소를 알려줄 비밀지도를 손에 넣었다. 그런데 이 비밀지도는 숫자로 암호화되어 있어 위치를 확인하기 위해서는 암호를 해독해야 한다. 다행히 지도 암호를 해독할 방법을 적어놓은 메모도 함께 발견했다.  \n",
    "\n",
    "지도는 한 변의 길이가 n인 정사각형 배열 형태로, 각 칸은 공백(\" ) 또는벽(#\") 두 종류로 이루어져 있다.  \n",
    "전체 지도는 두 장의 지도를 겹쳐서 얻을 수 있다. 각각 지도 1과 지도 2라고 하자. 지도 1 또는 지도 2 중 어느 하나라도 벽인 부분은 전체 지도에서도 벽이다. 지도 1과 지도 2에서 모두 공백인 부분은 전체 지도에서도 공백이다.  \n",
    "지도 1과 지도 2는 각각 정수 배열로 암호화되어 있다.  \n",
    "암호화된 배열은 지도의 각 가로줄에서 벽 부분을 1, 공백 부분을 0으로 부호화했을 때 얻어지는 이진수에 해당하는 값의 배열이다.  "
   ]
  },
  {
   "cell_type": "code",
   "execution_count": 1,
   "metadata": {},
   "outputs": [],
   "source": [
    "n_1 = 5\n",
    "arr1_1 = [9, 20, 28, 18, 11]\n",
    "arr2_1 = [30, 1, 21, 17, 28]\n",
    "reslut_1 = [\"#####\",\"# # #\", \"### #\", \"# ##\", \"#####\"]"
   ]
  },
  {
   "cell_type": "code",
   "execution_count": 2,
   "metadata": {},
   "outputs": [],
   "source": [
    "n_2 = 6\n",
    "arr1_2 = [46, 33, 33 ,22, 31, 50]\n",
    "arr2_2 = [27 ,56, 19, 14, 14, 10]\n",
    "result_2 = [\"######\", \"### #\", \"## ##\", \" #### \", \" #####\", \"### # \"]"
   ]
  },
  {
   "cell_type": "code",
   "execution_count": 7,
   "metadata": {},
   "outputs": [],
   "source": [
    "def solution(n, arr1, arr2):\n",
    "    answer = []\n",
    "    map_1 = []\n",
    "    map_2 = []\n",
    "    for i in range(len(arr1)):\n",
    "        temp_list = []\n",
    "        temp_num = int(arr1[i])\n",
    "        for ii in range(n):\n",
    "            if temp_num >= 2**(n-(ii+1)):\n",
    "                temp_num -= 2**(n-(ii+1))\n",
    "                temp_list.append(1)\n",
    "            else:\n",
    "                temp_list.append(0)\n",
    "    \n",
    "        map_1.append(temp_list)\n",
    "        \n",
    "    for i in range(len(arr2)):\n",
    "        temp_list = []\n",
    "        temp_num = int(arr2[i])\n",
    "        for ii in range(n):\n",
    "            if temp_num >= 2**(n-(ii+1)):\n",
    "                temp_num -= 2**(n-(ii+1))\n",
    "                temp_list.append(1)\n",
    "            else:\n",
    "                temp_list.append(0)\n",
    "    \n",
    "        map_2.append(temp_list)\n",
    "    \n",
    "    for i in range(n):\n",
    "        temp_str = ''\n",
    "        for ii in range(n):\n",
    "            if map_1[i][ii] or map_2[i][ii] == 1:\n",
    "                temp_str += '#'\n",
    "            else:\n",
    "                temp_str += ' '\n",
    "        answer.append(temp_str)\n",
    "        \n",
    "            \n",
    "    return answer"
   ]
  },
  {
   "cell_type": "code",
   "execution_count": 8,
   "metadata": {},
   "outputs": [
    {
     "data": {
      "text/plain": [
       "['#####', '# # #', '### #', '#  ##', '#####']"
      ]
     },
     "execution_count": 8,
     "metadata": {},
     "output_type": "execute_result"
    }
   ],
   "source": [
    "solution(n_1, arr1_1, arr2_1)"
   ]
  },
  {
   "cell_type": "code",
   "execution_count": null,
   "metadata": {},
   "outputs": [],
   "source": []
  }
 ],
 "metadata": {
  "kernelspec": {
   "display_name": "aiffel",
   "language": "python",
   "name": "aiffel"
  },
  "language_info": {
   "codemirror_mode": {
    "name": "ipython",
    "version": 3
   },
   "file_extension": ".py",
   "mimetype": "text/x-python",
   "name": "python",
   "nbconvert_exporter": "python",
   "pygments_lexer": "ipython3",
   "version": "3.7.7"
  }
 },
 "nbformat": 4,
 "nbformat_minor": 4
}
