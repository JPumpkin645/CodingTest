{
 "cells": [
  {
   "cell_type": "markdown",
   "metadata": {},
   "source": [
    "# 문제 설명"
   ]
  },
  {
   "cell_type": "markdown",
   "metadata": {},
   "source": [
    "수포자는 수학을 포기한 사람의 준말입니다. 수포자 삼인방은 모의고사에 수학 문제를 전부 찍으려 합니다. 수포자는 1번 문제부터 마지막 문제까지 다음과 같이 찍습니다.  \n",
    "\n",
    "1번 수포자가 찍는 방식: 1, 2, 3, 4, 5, 1, 2, 3, 4, 5, ...  \n",
    "2번 수포자가 찍는 방식: 2, 1, 2, 3, 2, 4, 2, 5, 2, 1, 2, 3, 2, 4, 2, 5, ...  \n",
    "3번 수포자가 찍는 방식: 3, 3, 1, 1, 2, 2, 4, 4, 5, 5, 3, 3, 1, 1, 2, 2, 4, 4, 5, 5, ...  \n",
    "\n",
    "1번 문제부터 마지막 문제까지의 정답이 순서대로 들은 배열 answers가 주어졌을 때, 가장 많은 문제를 맞힌 사람이 누구인지 배열에 담아 return 하도록 solution 함수를 작성해주세요.  "
   ]
  },
  {
   "cell_type": "markdown",
   "metadata": {},
   "source": [
    "## 제한 조건"
   ]
  },
  {
   "cell_type": "markdown",
   "metadata": {},
   "source": [
    "- 시험은 최대 10,000 문제로 구성되어있습니다.\n",
    "- 문제의 정답은 1, 2, 3, 4, 5중 하나입니다.\n",
    "- 가장 높은 점수를 받은 사람이 여럿일 경우, return하는 값을 오름차순 정렬해주세요."
   ]
  },
  {
   "cell_type": "code",
   "execution_count": 70,
   "metadata": {},
   "outputs": [],
   "source": [
    "def solution(answers):\n",
    "    answer = []\n",
    "    num_problem = len(answers)\n",
    "\n",
    "    ans_1 = [1,2,3,4,5]*8\n",
    "    ans_2 = [2,1,2,3,2,4,2,5]*5\n",
    "    ans_3 = [3,3,1,1,2,2,4,4,5,5]*4\n",
    "    \n",
    "    correct_1, correct_2, correct_3 = 0,0,0\n",
    "    \n",
    "    cycle = num_problem//40\n",
    "    reminder = num_problem%40\n",
    "        \n",
    "    answers_1, answers_2, answers_3 = [],[],[]\n",
    "    \n",
    "    if num_problem < 40:\n",
    "        \n",
    "        answers_1 += ans_1[:reminder]\n",
    "        answers_2 += ans_2[:reminder]\n",
    "        answers_3 += ans_3[:reminder]\n",
    "        \n",
    "    elif reminder == 0:\n",
    "        \n",
    "        answers_1 = ans_1*cycle\n",
    "        answers_2 = ans_2*cycle\n",
    "        answers_3 = ans_3*cycle\n",
    "        \n",
    "    else:\n",
    "        \n",
    "        answers_1 = ans_1*cycle\n",
    "        answers_2 = ans_2*cycle\n",
    "        answers_3 = ans_3*cycle\n",
    "        answers_1 += ans_1[:reminder]\n",
    "        answers_2 += ans_2[:reminder]\n",
    "        answers_3 += ans_3[:reminder]\n",
    "    \n",
    "    for i in range(num_problem):\n",
    "        if answers_1[i] == answers[i]:\n",
    "            correct_1 += 1\n",
    "        if answers_2[i] == answers[i]:\n",
    "            correct_2 += 1\n",
    "        if answers_3[i] == answers[i]:\n",
    "            correct_3 += 1\n",
    "    \n",
    "    if max(correct_1, correct_2, correct_3) == correct_1:\n",
    "        answer.append(1)\n",
    "    if max(correct_1, correct_2, correct_3) == correct_2:\n",
    "        answer.append(2)\n",
    "    if max(correct_1, correct_2, correct_3) == correct_3:\n",
    "        answer.append(3)\n",
    "\n",
    "    answer.sort()\n",
    "\n",
    "\n",
    "    return answer"
   ]
  },
  {
   "cell_type": "code",
   "execution_count": null,
   "metadata": {},
   "outputs": [],
   "source": []
  },
  {
   "cell_type": "code",
   "execution_count": 73,
   "metadata": {},
   "outputs": [],
   "source": [
    "answer_1 = [1,2,3,4,5]"
   ]
  },
  {
   "cell_type": "code",
   "execution_count": 74,
   "metadata": {},
   "outputs": [],
   "source": [
    "return_1 = [1]"
   ]
  },
  {
   "cell_type": "code",
   "execution_count": 75,
   "metadata": {},
   "outputs": [],
   "source": [
    "answer_2 = [1,3,2,4,2]"
   ]
  },
  {
   "cell_type": "code",
   "execution_count": 76,
   "metadata": {},
   "outputs": [],
   "source": [
    "return_2 = [1,2,3]"
   ]
  },
  {
   "cell_type": "code",
   "execution_count": 77,
   "metadata": {
    "scrolled": true
   },
   "outputs": [
    {
     "data": {
      "text/plain": [
       "[1]"
      ]
     },
     "execution_count": 77,
     "metadata": {},
     "output_type": "execute_result"
    }
   ],
   "source": [
    "solution(answer_1)"
   ]
  },
  {
   "cell_type": "code",
   "execution_count": 78,
   "metadata": {},
   "outputs": [
    {
     "data": {
      "text/plain": [
       "[1, 2, 3]"
      ]
     },
     "execution_count": 78,
     "metadata": {},
     "output_type": "execute_result"
    }
   ],
   "source": [
    "solution(answer_2)"
   ]
  },
  {
   "cell_type": "code",
   "execution_count": null,
   "metadata": {},
   "outputs": [],
   "source": []
  }
 ],
 "metadata": {
  "kernelspec": {
   "display_name": "Python 3",
   "language": "python",
   "name": "python3"
  },
  "language_info": {
   "codemirror_mode": {
    "name": "ipython",
    "version": 3
   },
   "file_extension": ".py",
   "mimetype": "text/x-python",
   "name": "python",
   "nbconvert_exporter": "python",
   "pygments_lexer": "ipython3",
   "version": "3.7.7"
  }
 },
 "nbformat": 4,
 "nbformat_minor": 4
}
