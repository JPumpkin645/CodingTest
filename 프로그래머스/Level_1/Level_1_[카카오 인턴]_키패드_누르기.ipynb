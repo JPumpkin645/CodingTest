{
 "cells": [
  {
   "cell_type": "markdown",
   "metadata": {},
   "source": [
    "이 전화 키패드에서 왼손과 오른손의 엄지손가락만을 이용해서 숫자만을 입력하려고 합니다.  \n",
    "맨 처음 왼손 엄지손가락은 * 키패드에 오른손 엄지손가락은  \n",
    "키패드 위치에서 시작하며, 엄지손가락을 사용하는 규칙은 다음과 같습니다.  \n",
    "\n",
    "1. 엄지손가락은 상하좌우 4가지 방향으로만 이동할 수 있으며 키패드 이동 한 칸은 거리로 1에 해당합니다.\n",
    "2. 왼쪽 열의 3개의 숫자 1, 4, 7을 입력할 때는 왼손 엄지손가락을 사용합니다.\n",
    "3. 오른쪽 열의 3개의 숫자 3, 6, 9를 입력할 때는 오른손 엄지손가락을 사용합니다.\n",
    "4. 가운데 열의 4개의 숫자 2, 5, 8, 0을 입력할 때는 두 엄지손가락의 현재 키패드의 위치에서 더 가까운 엄지손가락을 사용합니다.\n",
    "5. 만약 두 엄지손가락의 거리가 같다면, 오른손잡이는 오른손 엄지손가락, 왼손잡이는 왼손 엄지손가락을 사용합니다.\n",
    "\n",
    "\n",
    "순서대로 누를 번호가 담긴 배열 numbers, 왼손잡이인지 오른손잡이인 지를 나타내는 문자열 hand가 매개변수로 주어질 때, 각 번호를 누른 엄지손가락이 왼손인 지 오른손인 지를 나타내는 연속된 문자열 형태로 return 하도록 solution 함수를 완성해주세요."
   ]
  },
  {
   "cell_type": "markdown",
   "metadata": {},
   "source": [
    "- numbers 배열의 크기는 1 이상 1,000 이하입니다.\n",
    "- numbers 배열 원소의 값은 0 이상 9 이하인 정수입니다.\n",
    "- hand는 \"left\" 또는 \"right\" 입니다.\n",
    " - \"left\"는 왼손잡이, \"right\"는 오른손잡이를 의미합니다.\n",
    "- 왼손 엄지손가락을 사용한 경우는 L, 오른손 엄지손가락을 사용한 경우는 R을 순서대로 이어붙여 문자열 형태로 return 해주세요."
   ]
  },
  {
   "cell_type": "code",
   "execution_count": 1,
   "metadata": {},
   "outputs": [],
   "source": [
    "numbers_1 = [1, 3, 4, 5, 8, 2, 1, 4, 5, 9, 5]\n",
    "hand_1 = \"right\"\n",
    "result_1 = \"LRLLLRLLRRL\"\n",
    "\n",
    "numbers_2 = [7, 0, 8, 2, 8, 3, 1, 5, 7, 6, 2]\n",
    "hand_2 = \"left\"\n",
    "result_2 = \"LRLLRRLLLRR\"\n",
    "\n",
    "\n",
    "numbers_3 = [1, 2, 3, 4, 5, 6, 7, 8, 9, 0]\n",
    "hand_3 = \"right\"\n",
    "result_3 = \"LLRLLRLLRL\""
   ]
  },
  {
   "cell_type": "code",
   "execution_count": 4,
   "metadata": {},
   "outputs": [],
   "source": [
    "num_list = []\n",
    "for i in range(4):\n",
    "    for ii in range(3):\n",
    "        num_list.append((ii,i))"
   ]
  },
  {
   "cell_type": "code",
   "execution_count": 5,
   "metadata": {},
   "outputs": [
    {
     "data": {
      "text/plain": [
       "[(0, 0),\n",
       " (1, 0),\n",
       " (2, 0),\n",
       " (0, 1),\n",
       " (1, 1),\n",
       " (2, 1),\n",
       " (0, 2),\n",
       " (1, 2),\n",
       " (2, 2),\n",
       " (0, 3),\n",
       " (1, 3),\n",
       " (2, 3)]"
      ]
     },
     "execution_count": 5,
     "metadata": {},
     "output_type": "execute_result"
    }
   ],
   "source": [
    "num_list"
   ]
  },
  {
   "cell_type": "code",
   "execution_count": null,
   "metadata": {},
   "outputs": [],
   "source": [
    "left_position = \n",
    "temp_L = \n",
    "length_L"
   ]
  }
 ],
 "metadata": {
  "kernelspec": {
   "display_name": "aiffel",
   "language": "python",
   "name": "aiffel"
  },
  "language_info": {
   "codemirror_mode": {
    "name": "ipython",
    "version": 3
   },
   "file_extension": ".py",
   "mimetype": "text/x-python",
   "name": "python",
   "nbconvert_exporter": "python",
   "pygments_lexer": "ipython3",
   "version": "3.7.7"
  }
 },
 "nbformat": 4,
 "nbformat_minor": 4
}
