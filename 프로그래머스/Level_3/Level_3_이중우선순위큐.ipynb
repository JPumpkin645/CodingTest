{
 "cells": [
  {
   "cell_type": "markdown",
   "metadata": {},
   "source": [
    "이중 우선순위 큐는 다음 연산을 할 수 있는 자료구조를 말합니다."
   ]
  },
  {
   "cell_type": "markdown",
   "metadata": {},
   "source": [
    "명령어\t수신 탑(높이)\n",
    "- I 숫자: 큐에 주어진 숫자를 삽입합니다.\n",
    "- D 1:\t 큐에서 최댓값을 삭제합니다.\n",
    "- D -1:  큐에서 최솟값을 삭제합니다."
   ]
  },
  {
   "cell_type": "markdown",
   "metadata": {},
   "source": [
    "이중 우선순위 큐가 할 연산 operations가 매개변수로 주어질 때, 모든 연산을 처리한 후 큐가 비어있으면 [0,0] 비어있지 않으면 [최댓값, 최솟값]을 return 하도록 solution 함수를 구현해주세요."
   ]
  },
  {
   "cell_type": "markdown",
   "metadata": {},
   "source": [
    "- operations는 길이가 1 이상 1,000,000 이하인 문자열 배열입니다.\n",
    "- operations의 원소는 큐가 수행할 연산을 나타냅니다.\n",
    "- 원소는 “명령어 데이터” 형식으로 주어집니다.- 최댓값/최솟값을 삭제하는 연산에서 최댓값/최솟값이 둘 이상인 경우, 하나만 삭제합니다.\n",
    "- 빈 큐에 데이터를 삭제하라는 연산이 주어질 경우, 해당 연산은 무시합니다."
   ]
  },
  {
   "cell_type": "code",
   "execution_count": 2,
   "metadata": {},
   "outputs": [],
   "source": [
    "operations_1 = ['I 16','D 1']\n",
    "return_1 = [0,0]\n",
    "operations_2 = ['I 7','I 5','I -5','D -1']\n",
    "return_2 = [7,5]"
   ]
  },
  {
   "cell_type": "code",
   "execution_count": 3,
   "metadata": {},
   "outputs": [],
   "source": [
    "def solution(operations):\n",
    "    answer = []\n",
    "    answer_list = []\n",
    "    for i in range(len(operations)):\n",
    "        if operations[i][0] == 'I':\n",
    "            num = int(operations[i][2:])\n",
    "            answer_list.append(num)\n",
    "        elif operations[i] == 'D 1':\n",
    "            if len(answer_list) != 0:\n",
    "                answer_list.sort()\n",
    "                del answer_list[-1]\n",
    "                \n",
    "        else:\n",
    "            if len(answer_list) != 0:\n",
    "                answer_list.sort()\n",
    "                del answer_list[0]\n",
    "                \n",
    "    answer_list.sort()\n",
    "\n",
    "    if len(answer_list) == 0:\n",
    "        answer = [0,0]\n",
    "    else:\n",
    "        \n",
    "        answer.append(answer_list[-1])\n",
    "        answer.append(answer_list[0])        \n",
    "\n",
    "    return answer"
   ]
  },
  {
   "cell_type": "code",
   "execution_count": 4,
   "metadata": {},
   "outputs": [
    {
     "data": {
      "text/plain": [
       "[0, 0]"
      ]
     },
     "execution_count": 4,
     "metadata": {},
     "output_type": "execute_result"
    }
   ],
   "source": [
    "solution(operations_1)"
   ]
  },
  {
   "cell_type": "code",
   "execution_count": 5,
   "metadata": {},
   "outputs": [
    {
     "data": {
      "text/plain": [
       "[7, 5]"
      ]
     },
     "execution_count": 5,
     "metadata": {},
     "output_type": "execute_result"
    }
   ],
   "source": [
    "solution(operations_2)"
   ]
  },
  {
   "cell_type": "code",
   "execution_count": null,
   "metadata": {},
   "outputs": [],
   "source": []
  }
 ],
 "metadata": {
  "kernelspec": {
   "display_name": "aiffel",
   "language": "python",
   "name": "aiffel"
  },
  "language_info": {
   "codemirror_mode": {
    "name": "ipython",
    "version": 3
   },
   "file_extension": ".py",
   "mimetype": "text/x-python",
   "name": "python",
   "nbconvert_exporter": "python",
   "pygments_lexer": "ipython3",
   "version": "3.7.7"
  }
 },
 "nbformat": 4,
 "nbformat_minor": 4
}
