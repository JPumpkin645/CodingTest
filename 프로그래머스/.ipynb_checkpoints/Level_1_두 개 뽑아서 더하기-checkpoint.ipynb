{
 "cells": [
  {
   "cell_type": "code",
   "execution_count": 109,
   "metadata": {},
   "outputs": [],
   "source": [
    "def solution(numbers):\n",
    "    \n",
    "    #cleaned_list = list(set(numbers))\n",
    "    numbers.sort()\n",
    "    \n",
    "    a = len(numbers)\n",
    "    answer = []\n",
    "    temp_answer = []\n",
    "    \n",
    "    for i in range(a):\n",
    "        #0 부터 a-1개까지 뜬다.\n",
    "        for ii in range(a):\n",
    "            if i != ii:\n",
    "                \n",
    "                temp = numbers[i] + numbers[ii]\n",
    "                temp_answer.append(temp)\n",
    "    answer = list(set(temp_answer))\n",
    "    answer.sort()\n",
    "    return answer\n",
    "\n",
    "\n",
    "\n",
    "# set을 통해 중복제거하기\n",
    "# 0번부터 n개까지 차례대로 더함\n",
    "# append시킴\n",
    "# 다시 set을 통해 중복제거\n",
    "# 정답 인출"
   ]
  },
  {
   "cell_type": "code",
   "execution_count": 110,
   "metadata": {},
   "outputs": [],
   "source": [
    "input_1 = [2,1,3,4,1]"
   ]
  },
  {
   "cell_type": "code",
   "execution_count": 111,
   "metadata": {},
   "outputs": [],
   "source": [
    "input_2 = [5,0,2,7]"
   ]
  },
  {
   "cell_type": "code",
   "execution_count": 112,
   "metadata": {},
   "outputs": [],
   "source": [
    "output_1 =[2,3,4,5,6,7]"
   ]
  },
  {
   "cell_type": "code",
   "execution_count": 113,
   "metadata": {},
   "outputs": [],
   "source": [
    "output_2 = [2,5,7,9,12]"
   ]
  },
  {
   "cell_type": "code",
   "execution_count": 114,
   "metadata": {},
   "outputs": [
    {
     "data": {
      "text/plain": [
       "[2, 3, 4, 5, 6, 7]"
      ]
     },
     "execution_count": 114,
     "metadata": {},
     "output_type": "execute_result"
    }
   ],
   "source": [
    "solution(input_1)"
   ]
  },
  {
   "cell_type": "code",
   "execution_count": 118,
   "metadata": {},
   "outputs": [
    {
     "data": {
      "text/plain": [
       "[2, 5, 7, 9, 12]"
      ]
     },
     "execution_count": 118,
     "metadata": {},
     "output_type": "execute_result"
    }
   ],
   "source": [
    "solution(input_2)"
   ]
  },
  {
   "cell_type": "code",
   "execution_count": null,
   "metadata": {},
   "outputs": [],
   "source": []
  }
 ],
 "metadata": {
  "kernelspec": {
   "display_name": "aiffel",
   "language": "python",
   "name": "aiffel"
  },
  "language_info": {
   "codemirror_mode": {
    "name": "ipython",
    "version": 3
   },
   "file_extension": ".py",
   "mimetype": "text/x-python",
   "name": "python",
   "nbconvert_exporter": "python",
   "pygments_lexer": "ipython3",
   "version": "3.7.7"
  }
 },
 "nbformat": 4,
 "nbformat_minor": 4
}
