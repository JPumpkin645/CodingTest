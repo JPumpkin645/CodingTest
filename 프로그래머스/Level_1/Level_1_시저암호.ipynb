{
 "cells": [
  {
   "cell_type": "markdown",
   "metadata": {},
   "source": [
    "어떤 문장의 각 알파벳을 일정한 거리만큼 밀어서 다른 알파벳으로 바꾸는 암호화 방식을 시저 암호라고 합니다. 예를 들어 AB는 1만큼 밀면 BC가 되고, 3만큼 밀면 DE가 됩니다. z는 1만큼 밀면 a가 됩니다. 문자열 s와 거리 n을 입력받아 s를 n만큼 민 암호문을 만드는 함수, solution을 완성해 보세요."
   ]
  },
  {
   "cell_type": "markdown",
   "metadata": {},
   "source": [
    "- 공백은 아무리 밀어도 공백입니다.\n",
    "- s는 알파벳 소문자, 대문자, 공백으로만 이루어져 있습니다.\n",
    "- s의 길이는 8000이하입니다.\n",
    "- n은 1 이상, 25이하인 자연수입니다."
   ]
  },
  {
   "cell_type": "code",
   "execution_count": 1,
   "metadata": {},
   "outputs": [],
   "source": [
    "s_1 = 'AB'\n",
    "n_1 = 1\n",
    "result_1 = 'BC'\n",
    "\n",
    "s_2 = 'z'\n",
    "n_2 = 1\n",
    "result_2 = 'a'\n",
    "\n",
    "s_3 = 'a B z'\n",
    "n_3 = 4\n",
    "result_3 = 'e F d'"
   ]
  },
  {
   "cell_type": "code",
   "execution_count": 2,
   "metadata": {},
   "outputs": [],
   "source": [
    "lower, upper = [], []"
   ]
  },
  {
   "cell_type": "code",
   "execution_count": 4,
   "metadata": {},
   "outputs": [],
   "source": [
    "def solution(s, n):\n",
    "    answer = ''\n",
    "    lower, upper = [], []\n",
    "    lower_out, upper_out = [], []\n",
    "    \n",
    "    for i in range(97,123):\n",
    "        lower.append(chr(i))\n",
    "        \n",
    "    for i in range(65,91):\n",
    "        upper.append(chr(i))\n",
    "        \n",
    "    temp_out = []\n",
    "    for idx, string in enumerate(lower):\n",
    "        temp_out.append(((26+idx-n)%26,string))\n",
    "        \n",
    "    lower_out = sorted(temp_out,key = lambda x: x[0])\n",
    "    \n",
    "    temp_out = []\n",
    "    for idx, string in enumerate(upper):\n",
    "        temp_out.append(((26+idx-n)%26,string))\n",
    "    upper_out = sorted(temp_out,key = lambda x: x[0])\n",
    "    \n",
    "    for i in s:\n",
    "        if lower.count(i) == 1:\n",
    "            answer += lower_out[lower.index(i)][1]\n",
    "        elif upper.count(i) == 1:\n",
    "            answer += upper_out[upper.index(i)][1]\n",
    "        else: \n",
    "            answer += ' '\n",
    "    \n",
    "    return answer"
   ]
  },
  {
   "cell_type": "code",
   "execution_count": 5,
   "metadata": {},
   "outputs": [
    {
     "data": {
      "text/plain": [
       "'BC'"
      ]
     },
     "execution_count": 5,
     "metadata": {},
     "output_type": "execute_result"
    }
   ],
   "source": [
    "solution(s_1, n_1)"
   ]
  },
  {
   "cell_type": "code",
   "execution_count": null,
   "metadata": {},
   "outputs": [],
   "source": [
    "def solution(s, n):\n",
    "    answer = ''\n",
    "    \n",
    "    s = list(s)\n",
    "    \n",
    "    for i in range(len(s)):\n",
    "        if s[i].isupper():\n",
    "            s[i]=chr((ord(s[i])-ord('A')+ n)%26+ord('A'))\n",
    "        elif s[i].islower():\n",
    "            s[i]=chr((ord(s[i])-ord('a')+ n)%26+ord('a'))\n",
    "    \n",
    "    return ''.join(s)"
   ]
  },
  {
   "cell_type": "code",
   "execution_count": 6,
   "metadata": {},
   "outputs": [
    {
     "data": {
      "text/plain": [
       "'BC'"
      ]
     },
     "execution_count": 6,
     "metadata": {},
     "output_type": "execute_result"
    }
   ],
   "source": [
    "solution(s_1, n_1)"
   ]
  }
 ],
 "metadata": {
  "kernelspec": {
   "display_name": "aiffel",
   "language": "python",
   "name": "aiffel"
  },
  "language_info": {
   "codemirror_mode": {
    "name": "ipython",
    "version": 3
   },
   "file_extension": ".py",
   "mimetype": "text/x-python",
   "name": "python",
   "nbconvert_exporter": "python",
   "pygments_lexer": "ipython3",
   "version": "3.7.7"
  }
 },
 "nbformat": 4,
 "nbformat_minor": 4
}
