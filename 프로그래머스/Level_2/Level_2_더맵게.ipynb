{
 "cells": [
  {
   "cell_type": "markdown",
   "source": [
    "https://programmers.co.kr/learn/courses/30/lessons/42626"
   ],
   "metadata": {}
  },
  {
   "cell_type": "code",
   "execution_count": 85,
   "source": [
    "def solution(scoville, K):\r\n",
    "    answer = 0\r\n",
    "    a = sorted(scoville)\r\n",
    "    if a[0] >= K:\r\n",
    "        answer = -1\r\n",
    "    else:\r\n",
    "        for i in range(len(a)-1):\r\n",
    "            fir = min(a)\r\n",
    "            a.remove(fir)\r\n",
    "            sec = min(a)\r\n",
    "            a.remove(sec)\r\n",
    "            new = fir + 2*sec \r\n",
    "            a.insert(0, new)\r\n",
    "            answer += 1\r\n",
    "            if min(a) >= K:\r\n",
    "                break\r\n",
    "            if len(a) == 1:\r\n",
    "                answer = -1\r\n",
    "\r\n",
    "    return answer"
   ],
   "outputs": [],
   "metadata": {}
  },
  {
   "cell_type": "code",
   "execution_count": 86,
   "source": [
    "scoville = [7, 7, 7, 7, 10, 12]\r\n",
    "K = 7"
   ],
   "outputs": [],
   "metadata": {}
  },
  {
   "cell_type": "code",
   "execution_count": 87,
   "source": [
    "solution(scoville, K)"
   ],
   "outputs": [
    {
     "output_type": "execute_result",
     "data": {
      "text/plain": [
       "-1"
      ]
     },
     "metadata": {},
     "execution_count": 87
    }
   ],
   "metadata": {}
  },
  {
   "cell_type": "code",
   "execution_count": null,
   "source": [],
   "outputs": [],
   "metadata": {}
  }
 ],
 "metadata": {
  "orig_nbformat": 4,
  "language_info": {
   "name": "python",
   "version": "3.9.6",
   "mimetype": "text/x-python",
   "codemirror_mode": {
    "name": "ipython",
    "version": 3
   },
   "pygments_lexer": "ipython3",
   "nbconvert_exporter": "python",
   "file_extension": ".py"
  },
  "kernelspec": {
   "name": "python3",
   "display_name": "Python 3.9.6 64-bit"
  },
  "interpreter": {
   "hash": "78ce0563b5e7c44482a61f7637afec7a311dbccae5fb3809c4311209d333d399"
  }
 },
 "nbformat": 4,
 "nbformat_minor": 2
}