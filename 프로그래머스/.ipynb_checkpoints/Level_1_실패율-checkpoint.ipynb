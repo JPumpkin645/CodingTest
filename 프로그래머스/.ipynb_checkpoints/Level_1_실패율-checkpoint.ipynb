{
 "cells": [
  {
   "cell_type": "markdown",
   "metadata": {},
   "source": [
    "### ver_1\n",
    "it occures runtime error"
   ]
  },
  {
   "cell_type": "code",
   "execution_count": 22,
   "metadata": {},
   "outputs": [],
   "source": [
    "def solution(N, stages):\n",
    "    answer = []\n",
    "    fail_rate = [0]*N\n",
    "    done_people = [0]*N\n",
    "    \n",
    "    for i in range(N):\n",
    "        for ii in stages:\n",
    "            if ii >= i+1:\n",
    "                done_people[i] += 1\n",
    "        ing_people = stages.count(i+1)\n",
    "        \n",
    "        fail_rate[i] = ing_people/ done_people[i]\n",
    "    \n",
    "    temp_list = []    \n",
    "    \n",
    "    for idx, rate in enumerate(fail_rate):\n",
    "        temp_list.append((idx+1,rate))\n",
    "\n",
    "    temp_list = sorted(temp_list, key = lambda x: x[1], reverse = True)\n",
    "\n",
    "    for i in range(len(temp_list)):\n",
    "        answer.append(temp_list[i][0])\n",
    "    \n",
    "    return answer"
   ]
  },
  {
   "cell_type": "markdown",
   "metadata": {},
   "source": [
    "# ver 2\n",
    "pass"
   ]
  },
  {
   "cell_type": "code",
   "execution_count": 62,
   "metadata": {},
   "outputs": [],
   "source": [
    "def solution(N, stages):\n",
    "    answer = []\n",
    "    fail_rate = [0]*N\n",
    "    total_people = len(stages)\n",
    "    done_people = [0]*N\n",
    "    temp_sum = 0\n",
    "    \n",
    "    for i in range(N):\n",
    "        ing_people = stages.count(i+1)\n",
    "        temp_sum += ing_people\n",
    "        done_people[i] = total_people - temp_sum + stages.count(i+1)\n",
    "        # 0을 나눌때 꼭 예외처리 해주기\n",
    "        if ing_people == 0 :\n",
    "            fail_rate[i] = 0\n",
    "        else:\n",
    "            fail_rate[i] = ing_people/ done_people[i]\n",
    "    \n",
    "    temp_list = []    \n",
    "    \n",
    "    for idx, rate in enumerate(fail_rate):\n",
    "        temp_list.append((idx+1,rate))\n",
    "\n",
    "    temp_list = sorted(temp_list, key = lambda x: x[1], reverse = True)\n",
    "\n",
    "    for i in range(len(temp_list)):\n",
    "        \n",
    "        answer.append(temp_list[i][0])\n",
    "    \n",
    "    return answer"
   ]
  },
  {
   "cell_type": "code",
   "execution_count": null,
   "metadata": {},
   "outputs": [],
   "source": []
  },
  {
   "cell_type": "code",
   "execution_count": null,
   "metadata": {},
   "outputs": [],
   "source": []
  },
  {
   "cell_type": "code",
   "execution_count": null,
   "metadata": {},
   "outputs": [],
   "source": []
  },
  {
   "cell_type": "code",
   "execution_count": 55,
   "metadata": {},
   "outputs": [],
   "source": [
    "N_1 = 5"
   ]
  },
  {
   "cell_type": "code",
   "execution_count": 56,
   "metadata": {},
   "outputs": [],
   "source": [
    "stages_1 = [2, 1, 2, 6, 2, 4, 3, 3]"
   ]
  },
  {
   "cell_type": "code",
   "execution_count": 57,
   "metadata": {},
   "outputs": [
    {
     "data": {
      "text/plain": [
       "[3, 4, 2, 1, 5]"
      ]
     },
     "execution_count": 57,
     "metadata": {},
     "output_type": "execute_result"
    }
   ],
   "source": [
    "solution(N_1, stages_1)"
   ]
  },
  {
   "cell_type": "code",
   "execution_count": null,
   "metadata": {},
   "outputs": [],
   "source": []
  },
  {
   "cell_type": "code",
   "execution_count": null,
   "metadata": {},
   "outputs": [],
   "source": []
  },
  {
   "cell_type": "code",
   "execution_count": null,
   "metadata": {},
   "outputs": [],
   "source": []
  },
  {
   "cell_type": "code",
   "execution_count": null,
   "metadata": {},
   "outputs": [],
   "source": []
  },
  {
   "cell_type": "code",
   "execution_count": 58,
   "metadata": {},
   "outputs": [],
   "source": [
    "N_2 = 4"
   ]
  },
  {
   "cell_type": "code",
   "execution_count": 59,
   "metadata": {},
   "outputs": [],
   "source": [
    "stages_2 = [4,4,4,4,4]"
   ]
  },
  {
   "cell_type": "code",
   "execution_count": 60,
   "metadata": {},
   "outputs": [
    {
     "data": {
      "text/plain": [
       "[4, 1, 2, 3]"
      ]
     },
     "execution_count": 60,
     "metadata": {},
     "output_type": "execute_result"
    }
   ],
   "source": [
    "solution(N_2, stages_2)"
   ]
  },
  {
   "cell_type": "markdown",
   "metadata": {},
   "source": [
    "fail_rate"
   ]
  },
  {
   "cell_type": "markdown",
   "metadata": {},
   "source": [
    "temp_list"
   ]
  },
  {
   "cell_type": "markdown",
   "metadata": {},
   "source": [
    "temp_list = sorted(temp_list, key = lambda x: x[1], reverse = True)\n",
    "temp_list"
   ]
  }
 ],
 "metadata": {
  "kernelspec": {
   "display_name": "aiffel",
   "language": "python",
   "name": "aiffel"
  },
  "language_info": {
   "codemirror_mode": {
    "name": "ipython",
    "version": 3
   },
   "file_extension": ".py",
   "mimetype": "text/x-python",
   "name": "python",
   "nbconvert_exporter": "python",
   "pygments_lexer": "ipython3",
   "version": "3.7.7"
  }
 },
 "nbformat": 4,
 "nbformat_minor": 4
}
