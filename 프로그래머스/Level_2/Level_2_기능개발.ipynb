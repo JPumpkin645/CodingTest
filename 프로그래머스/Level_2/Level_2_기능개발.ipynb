{
 "cells": [
  {
   "cell_type": "markdown",
   "source": [
    "https://programmers.co.kr/learn/courses/30/lessons/42586"
   ],
   "metadata": {}
  },
  {
   "cell_type": "code",
   "execution_count": 38,
   "source": [
    "def solution(progresses, speeds):\r\n",
    "    answer = []\r\n",
    "    project = len(progresses)\r\n",
    "    temp = []\r\n",
    "    for i in range(project):\r\n",
    "        ii = (100 - progresses[i])/speeds[i]\r\n",
    "        if ii != int(ii):\r\n",
    "            ii = int(ii)+1\r\n",
    "        else:\r\n",
    "            ii = int(ii)\r\n",
    "        temp.append(ii)\r\n",
    "    for i in range(1, project):\r\n",
    "        if temp[i] <= temp[i-1]:\r\n",
    "            temp [i] = temp[i-1]\r\n",
    "    for i in range(1, project):\r\n",
    "        if temp[i] <= temp[i-1]:\r\n",
    "            temp [i] = temp[i-1]\r\n",
    "    a = sorted(list(set(temp)))\r\n",
    "    for i in a:\r\n",
    "        answer.append(temp.count(i))\r\n",
    "    return answer"
   ],
   "outputs": [],
   "metadata": {}
  },
  {
   "cell_type": "code",
   "execution_count": 35,
   "source": [
    "def solution(progresses, speeds):\r\n",
    "    Q=[]\r\n",
    "    for p, s in zip(progresses, speeds):\r\n",
    "        if len(Q)==0 or Q[-1][0]<-((p-100)//s):\r\n",
    "            Q.append([-((p-100)//s),1])\r\n",
    "        else:\r\n",
    "            Q[-1][1]+=1\r\n",
    "    return [q[1] for q in Q]\r\n"
   ],
   "outputs": [],
   "metadata": {}
  },
  {
   "cell_type": "code",
   "execution_count": 39,
   "source": [
    "progresses = [93, 30, 55]\r\n",
    "speeds = [1, 30, 5]"
   ],
   "outputs": [],
   "metadata": {}
  },
  {
   "cell_type": "code",
   "execution_count": 40,
   "source": [
    "solution(progresses, speeds)"
   ],
   "outputs": [
    {
     "output_type": "execute_result",
     "data": {
      "text/plain": [
       "[2, 1]"
      ]
     },
     "metadata": {},
     "execution_count": 40
    }
   ],
   "metadata": {}
  },
  {
   "cell_type": "code",
   "execution_count": null,
   "source": [],
   "outputs": [],
   "metadata": {}
  }
 ],
 "metadata": {
  "orig_nbformat": 4,
  "language_info": {
   "name": "python",
   "version": "3.9.6",
   "mimetype": "text/x-python",
   "codemirror_mode": {
    "name": "ipython",
    "version": 3
   },
   "pygments_lexer": "ipython3",
   "nbconvert_exporter": "python",
   "file_extension": ".py"
  },
  "kernelspec": {
   "name": "python3",
   "display_name": "Python 3.9.6 64-bit"
  },
  "interpreter": {
   "hash": "78ce0563b5e7c44482a61f7637afec7a311dbccae5fb3809c4311209d333d399"
  }
 },
 "nbformat": 4,
 "nbformat_minor": 2
}