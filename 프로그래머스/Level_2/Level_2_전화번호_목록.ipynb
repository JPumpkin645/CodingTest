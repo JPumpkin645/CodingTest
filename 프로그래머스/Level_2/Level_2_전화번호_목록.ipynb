{
 "cells": [
  {
   "cell_type": "markdown",
   "source": [
    "https://programmers.co.kr/learn/courses/30/lessons/42577?language=python3"
   ],
   "metadata": {}
  },
  {
   "cell_type": "code",
   "execution_count": 11,
   "source": [
    "def solution(phone_book):\r\n",
    "    answer = True\r\n",
    "    phone_book.sort(key=len)\r\n",
    "    temp = phone_book.copy()\r\n",
    "    list_len = len(temp)\r\n",
    "    for i in range(len(temp)-1):\r\n",
    "        leng = len(temp[i])\r\n",
    "\r\n",
    "        for ii in range(i+1, list_len):\r\n",
    "            if temp[i][:leng] == temp[ii][:leng]:\r\n",
    "                answer = False\r\n",
    "\r\n",
    "    return answer"
   ],
   "outputs": [],
   "metadata": {}
  },
  {
   "cell_type": "code",
   "execution_count": 1,
   "source": [
    "phone_book = [\"119\", \"97674223\", \"1195524421\"]"
   ],
   "outputs": [],
   "metadata": {}
  },
  {
   "cell_type": "code",
   "execution_count": 12,
   "source": [
    "solution(phone_book)"
   ],
   "outputs": [
    {
     "output_type": "execute_result",
     "data": {
      "text/plain": [
       "False"
      ]
     },
     "metadata": {},
     "execution_count": 12
    }
   ],
   "metadata": {}
  },
  {
   "cell_type": "code",
   "execution_count": null,
   "source": [],
   "outputs": [],
   "metadata": {}
  },
  {
   "cell_type": "code",
   "execution_count": null,
   "source": [],
   "outputs": [],
   "metadata": {}
  },
  {
   "cell_type": "code",
   "execution_count": null,
   "source": [],
   "outputs": [],
   "metadata": {}
  }
 ],
 "metadata": {
  "orig_nbformat": 4,
  "language_info": {
   "name": "python",
   "version": "3.9.6",
   "mimetype": "text/x-python",
   "codemirror_mode": {
    "name": "ipython",
    "version": 3
   },
   "pygments_lexer": "ipython3",
   "nbconvert_exporter": "python",
   "file_extension": ".py"
  },
  "kernelspec": {
   "name": "python3",
   "display_name": "Python 3.9.6 64-bit"
  },
  "interpreter": {
   "hash": "78ce0563b5e7c44482a61f7637afec7a311dbccae5fb3809c4311209d333d399"
  }
 },
 "nbformat": 4,
 "nbformat_minor": 2
}