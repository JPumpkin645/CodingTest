{
 "cells": [
  {
   "cell_type": "markdown",
   "metadata": {},
   "source": [
    "자연수 n이 매개변수로 주어집니다. n을 3진법 상에서 앞뒤로 뒤집은 후, 이를 다시 10진법으로 표현한 수를 return 하도록 solution 함수를 완성해주세요."
   ]
  },
  {
   "cell_type": "markdown",
   "metadata": {},
   "source": [
    "n은 1 이상 100,000,000 이하인 자연수입니다."
   ]
  },
  {
   "cell_type": "code",
   "execution_count": 62,
   "metadata": {},
   "outputs": [],
   "source": [
    "def samjin(n):\n",
    "    \n",
    "    if n//3 == 0:\n",
    "        temp.append(n%3)\n",
    "\n",
    "    else:\n",
    "        temp.append(n%3)\n",
    "        n = n//3\n",
    "        samjin(n)\n",
    "        \n",
    "def solution(n):\n",
    "    answer = 0\n",
    "    temp =[]\n",
    "    reverse_temp = []\n",
    "    \n",
    "    def samjin(n):\n",
    "    \n",
    "        if n//3 == 0:\n",
    "            temp.append(n%3)\n",
    "\n",
    "        else:\n",
    "            temp.append(n%3)\n",
    "            n = n//3\n",
    "            samjin(n)\n",
    "    \n",
    "    samjin(n)\n",
    "    \n",
    "    for idx,s in enumerate(temp):\n",
    "        reverse_temp.append((idx,s))\n",
    "        \n",
    "    reverse_temp = sorted(reverse_temp, key = lambda x: x[0], reverse = True)\n",
    "    \n",
    "    for idx, s in reverse_temp:\n",
    "        answer += s*(3**(len(reverse_temp)-(idx+1)))\n",
    "    \n",
    "    \n",
    "    return answer"
   ]
  },
  {
   "cell_type": "code",
   "execution_count": 63,
   "metadata": {},
   "outputs": [],
   "source": [
    "n_1 = 45\n",
    "result_1 = 7"
   ]
  },
  {
   "cell_type": "code",
   "execution_count": 64,
   "metadata": {},
   "outputs": [],
   "source": [
    "n_2 = 125\n",
    "result_2 = 229"
   ]
  },
  {
   "cell_type": "code",
   "execution_count": 65,
   "metadata": {},
   "outputs": [
    {
     "data": {
      "text/plain": [
       "7"
      ]
     },
     "execution_count": 65,
     "metadata": {},
     "output_type": "execute_result"
    }
   ],
   "source": [
    "solution(n_1)"
   ]
  },
  {
   "cell_type": "code",
   "execution_count": 66,
   "metadata": {},
   "outputs": [
    {
     "data": {
      "text/plain": [
       "229"
      ]
     },
     "execution_count": 66,
     "metadata": {},
     "output_type": "execute_result"
    }
   ],
   "source": [
    "solution(n_2)"
   ]
  },
  {
   "cell_type": "markdown",
   "metadata": {},
   "source": [
    "# 궁금증\n",
    "왜 함수안에 재귀함수를 호출해야 실행이 되는가"
   ]
  },
  {
   "cell_type": "code",
   "execution_count": null,
   "metadata": {},
   "outputs": [],
   "source": []
  },
  {
   "cell_type": "code",
   "execution_count": null,
   "metadata": {},
   "outputs": [],
   "source": []
  }
 ],
 "metadata": {
  "kernelspec": {
   "display_name": "aiffel",
   "language": "python",
   "name": "aiffel"
  },
  "language_info": {
   "codemirror_mode": {
    "name": "ipython",
    "version": 3
   },
   "file_extension": ".py",
   "mimetype": "text/x-python",
   "name": "python",
   "nbconvert_exporter": "python",
   "pygments_lexer": "ipython3",
   "version": "3.7.7"
  }
 },
 "nbformat": 4,
 "nbformat_minor": 4
}
